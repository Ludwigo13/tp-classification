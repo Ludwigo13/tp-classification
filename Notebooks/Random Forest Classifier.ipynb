{
 "cells": [
  {
   "cell_type": "code",
   "execution_count": 1,
   "id": "1384da81-3ae6-40c1-b99d-321aec88b306",
   "metadata": {},
   "outputs": [
    {
     "name": "stdout",
     "output_type": "stream",
     "text": [
      "Étape 1 : Données nettoyées\n",
      "   PetID PetType             Breed  AgeMonths   Color    Size   WeightKg  \\\n",
      "0    500    Bird          Parakeet        131  Orange   Large   5.039768   \n",
      "1    501  Rabbit            Rabbit         73   White   Large  16.086727   \n",
      "2    502     Dog  Golden Retriever        136  Orange  Medium   2.076286   \n",
      "3    503    Bird          Parakeet         97   White   Small   3.339423   \n",
      "4    504  Rabbit            Rabbit        123    Gray   Large  20.498100   \n",
      "\n",
      "   Vaccinated  HealthCondition  TimeInShelterDays  AdoptionFee  PreviousOwner  \\\n",
      "0           1                0                 27          140              0   \n",
      "1           0                0                  8          235              0   \n",
      "2           0                0                 85          385              0   \n",
      "3           0                0                 61          217              1   \n",
      "4           0                0                 28           14              1   \n",
      "\n",
      "   AdoptionLikelihood  \n",
      "0                   0  \n",
      "1                   0  \n",
      "2                   0  \n",
      "3                   0  \n",
      "4                   0  \n"
     ]
    }
   ],
   "source": [
    "import pandas as pd\n",
    "from sklearn.model_selection import train_test_split\n",
    "from sklearn.ensemble import RandomForestClassifier\n",
    "from sklearn.metrics import confusion_matrix, classification_report\n",
    "import matplotlib.pyplot as plt\n",
    "import seaborn as sns\n",
    "\n",
    "# Charger le jeu de données\n",
    "file_path = 'pet_adoption_data.csv'  # Mettez à jour le chemin si nécessaire\n",
    "data = pd.read_csv(file_path)\n",
    "\n",
    "# Étape 1 : Nettoyer les données (pour simplifier, nous supprimons les lignes avec des valeurs manquantes)\n",
    "data_cleaned = data.dropna()\n",
    "print(\"Étape 1 : Données nettoyées\")\n",
    "print(data_cleaned.head())"
   ]
  },
  {
   "cell_type": "code",
   "execution_count": 2,
   "id": "ac5b5bba-f35a-4263-9e0e-e5e31356030c",
   "metadata": {},
   "outputs": [
    {
     "name": "stdout",
     "output_type": "stream",
     "text": [
      "\n",
      "Étape 2 : Caractéristiques sélectionnées\n",
      "X (caractéristiques) :\n",
      "   PetID PetType             Breed  AgeMonths   Color    Size   WeightKg  \\\n",
      "0    500    Bird          Parakeet        131  Orange   Large   5.039768   \n",
      "1    501  Rabbit            Rabbit         73   White   Large  16.086727   \n",
      "2    502     Dog  Golden Retriever        136  Orange  Medium   2.076286   \n",
      "3    503    Bird          Parakeet         97   White   Small   3.339423   \n",
      "4    504  Rabbit            Rabbit        123    Gray   Large  20.498100   \n",
      "\n",
      "   Vaccinated  HealthCondition  TimeInShelterDays  AdoptionFee  PreviousOwner  \n",
      "0           1                0                 27          140              0  \n",
      "1           0                0                  8          235              0  \n",
      "2           0                0                 85          385              0  \n",
      "3           0                0                 61          217              1  \n",
      "4           0                0                 28           14              1  \n",
      "y (variable cible) :\n",
      "0    0\n",
      "1    0\n",
      "2    0\n",
      "3    0\n",
      "4    0\n",
      "Name: AdoptionLikelihood, dtype: int64\n"
     ]
    }
   ],
   "source": [
    "# Étape 2 : Sélectionner les caractéristiques (features) et la variable cible\n",
    "X = data_cleaned.drop(columns=['AdoptionLikelihood'])\n",
    "y = data_cleaned['AdoptionLikelihood']\n",
    "print(\"\\nÉtape 2 : Caractéristiques sélectionnées\")\n",
    "print(\"X (caractéristiques) :\")\n",
    "print(X.head())\n",
    "print(\"y (variable cible) :\")\n",
    "print(y.head())"
   ]
  },
  {
   "cell_type": "code",
   "execution_count": 3,
   "id": "0e034815-43de-4242-b090-cf3a49145cc0",
   "metadata": {},
   "outputs": [
    {
     "name": "stdout",
     "output_type": "stream",
     "text": [
      "\n",
      "Encodage des variables catégorielles terminé.\n",
      "   PetID  AgeMonths   WeightKg  Vaccinated  HealthCondition  \\\n",
      "0    500        131   5.039768           1                0   \n",
      "1    501         73  16.086727           0                0   \n",
      "2    502        136   2.076286           0                0   \n",
      "3    503         97   3.339423           0                0   \n",
      "4    504        123  20.498100           0                0   \n",
      "\n",
      "   TimeInShelterDays  AdoptionFee  PreviousOwner  PetType_Bird  PetType_Cat  \\\n",
      "0                 27          140              0          True        False   \n",
      "1                  8          235              0         False        False   \n",
      "2                 85          385              0         False        False   \n",
      "3                 61          217              1          True        False   \n",
      "4                 28           14              1         False        False   \n",
      "\n",
      "   ...  Breed_Rabbit  Breed_Siamese  Color_Black  Color_Brown  Color_Gray  \\\n",
      "0  ...         False          False        False        False       False   \n",
      "1  ...          True          False        False        False       False   \n",
      "2  ...         False          False        False        False       False   \n",
      "3  ...         False          False        False        False       False   \n",
      "4  ...          True          False        False        False        True   \n",
      "\n",
      "   Color_Orange  Color_White  Size_Large  Size_Medium  Size_Small  \n",
      "0          True        False        True        False       False  \n",
      "1         False         True        True        False       False  \n",
      "2          True        False       False         True       False  \n",
      "3         False         True       False        False        True  \n",
      "4         False        False        True        False       False  \n",
      "\n",
      "[5 rows x 27 columns]\n"
     ]
    }
   ],
   "source": [
    "# Encodage des variables catégorielles avec pd.get_dummies()\n",
    "X_encoded = pd.get_dummies(X)\n",
    "print(\"\\nEncodage des variables catégorielles terminé.\")\n",
    "print(X_encoded.head())  # Affiche les 5 premières lignes des données encodées"
   ]
  },
  {
   "cell_type": "code",
   "execution_count": 4,
   "id": "f499048c-b334-48b8-af55-0fe1b50e174f",
   "metadata": {},
   "outputs": [
    {
     "name": "stdout",
     "output_type": "stream",
     "text": [
      "\n",
      "Étape 3 : Données divisées\n",
      "Ensemble d'entraînement :\n",
      "(1605, 27)\n",
      "Ensemble de test :\n",
      "(402, 27)\n"
     ]
    }
   ],
   "source": [
    "# Étape 3 : Diviser les données en ensembles d'entraînement et de test\n",
    "X_train, X_test, y_train, y_test = train_test_split(X_encoded, y, test_size=0.2, random_state=42)\n",
    "print(\"\\nÉtape 3 : Données divisées\")\n",
    "print(\"Ensemble d'entraînement :\")\n",
    "print(X_train.shape)\n",
    "print(\"Ensemble de test :\")\n",
    "print(X_test.shape)"
   ]
  },
  {
   "cell_type": "code",
   "execution_count": 5,
   "id": "2ea6a9db-ab9c-49c6-a042-5a3529312cfb",
   "metadata": {},
   "outputs": [
    {
     "name": "stdout",
     "output_type": "stream",
     "text": [
      "\n",
      "Étape 4 : Modèle entraîné\n"
     ]
    }
   ],
   "source": [
    "# Étape 4 : Entraîner le modèle Random Forest\n",
    "model = RandomForestClassifier(random_state=42)\n",
    "model.fit(X_train, y_train)\n",
    "print(\"\\nÉtape 4 : Modèle entraîné\")"
   ]
  },
  {
   "cell_type": "code",
   "execution_count": 6,
   "id": "fa173bce-6dc0-4412-8e7c-7e7d03fa9e5a",
   "metadata": {},
   "outputs": [
    {
     "name": "stdout",
     "output_type": "stream",
     "text": [
      "\n",
      "Étape 5 : Prédictions effectuées\n",
      "[1 0 0 0 0 1 1 0 0 0]\n"
     ]
    }
   ],
   "source": [
    "# Étape 5 : Prédire sur l'ensemble de test\n",
    "y_pred = model.predict(X_test)\n",
    "print(\"\\nÉtape 5 : Prédictions effectuées\")\n",
    "print(y_pred[:10])  # Affiche les 10 premières prédictions"
   ]
  },
  {
   "cell_type": "code",
   "execution_count": 7,
   "id": "95d8ee3b-45a1-43ea-9f3a-537bec3eab6b",
   "metadata": {},
   "outputs": [
    {
     "name": "stdout",
     "output_type": "stream",
     "text": [
      "\n",
      "Étape 6 : Évaluation du modèle\n",
      "Matrice de confusion :\n",
      "[[259  11]\n",
      " [ 11 121]]\n",
      "\n",
      "Rapport de classification :\n",
      "              precision    recall  f1-score   support\n",
      "\n",
      "           0       0.96      0.96      0.96       270\n",
      "           1       0.92      0.92      0.92       132\n",
      "\n",
      "    accuracy                           0.95       402\n",
      "   macro avg       0.94      0.94      0.94       402\n",
      "weighted avg       0.95      0.95      0.95       402\n",
      "\n"
     ]
    }
   ],
   "source": [
    "# Étape 6 : Évaluer le modèle avec la matrice de confusion et le rapport de classification\n",
    "conf_matrix = confusion_matrix(y_test, y_pred)\n",
    "report = classification_report(y_test, y_pred)\n",
    "print(\"\\nÉtape 6 : Évaluation du modèle\")\n",
    "print(\"Matrice de confusion :\")\n",
    "print(conf_matrix)\n",
    "print(\"\\nRapport de classification :\")\n",
    "print(report)"
   ]
  },
  {
   "cell_type": "code",
   "execution_count": 8,
   "id": "5cb434b9-a244-4635-93b3-b6cf080cb6bf",
   "metadata": {},
   "outputs": [
    {
     "name": "stdout",
     "output_type": "stream",
     "text": [
      "\n",
      "Étape 7 : Importance des caractéristiques\n",
      "           Caractéristique  Importance\n",
      "25             Size_Medium    0.155062\n",
      "1                AgeMonths    0.140616\n",
      "3               Vaccinated    0.124564\n",
      "0                    PetID    0.107926\n",
      "4          HealthCondition    0.092719\n",
      "13          Breed_Labrador    0.060731\n",
      "6              AdoptionFee    0.047769\n",
      "2                 WeightKg    0.045952\n",
      "24              Size_Large    0.045439\n",
      "5        TimeInShelterDays    0.043431\n",
      "26              Size_Small    0.042882\n",
      "10             PetType_Dog    0.015640\n",
      "7            PreviousOwner    0.007401\n",
      "19             Color_Black    0.006866\n",
      "22            Color_Orange    0.006765\n",
      "23             Color_White    0.006148\n",
      "21              Color_Gray    0.005864\n",
      "16            Breed_Poodle    0.005644\n",
      "20             Color_Brown    0.005419\n",
      "12  Breed_Golden Retriever    0.005347\n",
      "8             PetType_Bird    0.004161\n",
      "9              PetType_Cat    0.004160\n",
      "11          PetType_Rabbit    0.004137\n",
      "14          Breed_Parakeet    0.003924\n",
      "18           Breed_Siamese    0.003916\n",
      "15           Breed_Persian    0.003812\n",
      "17            Breed_Rabbit    0.003704\n"
     ]
    }
   ],
   "source": [
    "# Étape 7 : Analyser l'importance des caractéristiques\n",
    "feature_importances = model.feature_importances_\n",
    "feature_importances_df = pd.DataFrame({'Caractéristique': X_encoded.columns, 'Importance': feature_importances}).sort_values(by='Importance', ascending=False)\n",
    "print(\"\\nÉtape 7 : Importance des caractéristiques\")\n",
    "print(feature_importances_df)"
   ]
  },
  {
   "cell_type": "code",
   "execution_count": 9,
   "id": "9414c30b-9b47-4dc9-90f2-8d6370b2b619",
   "metadata": {},
   "outputs": [
    {
     "data": {
      "image/png": "[encoded data removed]",
      "text/plain": [
       "<Figure size 800x600 with 2 Axes>"
      ]
     },
     "metadata": {},
     "output_type": "display_data"
    }
   ],
   "source": [
    "# Affichage de la matrice de confusion\n",
    "plt.figure(figsize=(8, 6))\n",
    "sns.heatmap(conf_matrix, annot=True, fmt='d', cmap='Blues')\n",
    "plt.title('Matrice de Confusion')\n",
    "plt.xlabel('Prédiction')\n",
    "plt.ylabel('Réel')\n",
    "plt.show()"
   ]
  },
  {
   "cell_type": "code",
   "execution_count": null,
   "id": "4004aad4-8354-4e45-83be-f6f51b05fe28",
   "metadata": {},
   "outputs": [],
   "source": []
  }
 ],
 "metadata": {
  "kernelspec": {
   "display_name": "Python 3 (ipykernel)",
   "language": "python",
   "name": "python3"
  },
  "language_info": {
   "codemirror_mode": {
    "name": "ipython",
    "version": 3
   },
   "file_extension": ".py",
   "mimetype": "text/x-python",
   "name": "python",
   "nbconvert_exporter": "python",
   "pygments_lexer": "ipython3",
   "version": "3.12.5"
  }
 },
 "nbformat": 4,
 "nbformat_minor": 5
}
